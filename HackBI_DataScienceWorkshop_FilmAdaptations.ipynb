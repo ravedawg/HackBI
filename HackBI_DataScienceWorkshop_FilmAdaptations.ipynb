{
 "cells": [
  {
   "cell_type": "markdown",
   "metadata": {},
   "source": [
    "# Welcome, Bishop Ireton Hackers!\n",
    "\n",
    "This tutorial leads you through the steps of a basic data mining pipeline:\n",
    "1. Define your problem\n",
    "2. Identify your data\n",
    "3.  ,-------> Explore your data ----------\n",
    "4.  '-- Normalize and Clean your data <--'\n",
    "5. Extract information\n",
    "\n",
    "If you're a pro, feel free to modify as you go or carve your own path."
   ]
  },
  {
   "cell_type": "code",
   "execution_count": null,
   "metadata": {},
   "outputs": [],
   "source": [
    "# Make sure the following libraries work\n",
    "# To troubleshoot: open the command line and check that it's installed, e.g. \"which numpy\"\n",
    "# if it is not installed, simply install e.g. \"pip install pandas\"\n",
    "# if it is installed, you might need to check your paths\n",
    "from IPython.display import Image\n",
    "import os\n",
    "import numpy as np \n",
    "import pandas as pd\n",
    "import matplotlib.pyplot as plt\n",
    "from matplotlib.pyplot import figure\n",
    "plt.style.use('ggplot')\n",
    "import ast\n",
    "from sklearn import preprocessing\n"
   ]
  },
  {
   "cell_type": "markdown",
   "metadata": {},
   "source": [
    "## 1. Define your problem: What makes a good book-to-movie? \n",
    "Seriously though, why do so many good books become terrible movies? Take this conundrum, for example:\n",
    "\n",
    "Mystic River. Written by Dennis Lehane, starring Sean Penn and Tim Robbins, directed by Clint Eastwood. Award-winning book, and award-winning movie.\n",
    "\n",
    "Live By Night. Written by Dennis Lehane, starring Ben Affleck and Zoe Saldana, directed by Ben Affleck. Award-winning book, TERRIBLE movie. Even after it was adapted to film by the author himself.\n",
    "\n",
    "I don't expect to solve all the mysteries here, but I'd like to get some general trends."
   ]
  },
  {
   "cell_type": "code",
   "execution_count": null,
   "metadata": {},
   "outputs": [],
   "source": [
    "cwd = os.getcwd()\n",
    "movie_posters = cwd+\"/img/MoviePosters.png\"\n",
    "Image(movie_posters, width=400, height=400)"
   ]
  },
  {
   "cell_type": "markdown",
   "metadata": {},
   "source": [
    "## 2. Identify your data. \n",
    "\n",
    "Let's use a subset of a dataset that I created, using goodreads and imdb.\n",
    "\n",
    "For book data, I used the goodreads API https://www.goodreads.com/api, which I found pretty robust and easy-to-use, as far as API's go.\n",
    "\n",
    "For movie data, IMDb has a huge volume of public data. You can download it in large chunks, https://www.imdb.com/interfaces/, or go through the API like I did (http://www.omdbapi.com/).\n",
    "\n",
    "Holy crap there are a lot of books and movies! To link the two datasets, I went to wikipedia.\n",
    "https://en.wikipedia.org/w/index.php?title=Category:American_novels_adapted_into_films&pageuntil=Burnt+Offerings+%28Marasco+novel%29#mw-pages\n",
    "\n",
    "\n",
    "Some other great places to find free datasets:\n",
    "https://www.kaggle.com/datasets\n",
    "https://github.com/datasets\n",
    "https://data.fivethirtyeight.com/\n",
    "https://datasetsearch.research.google.com/\n",
    "https://scikit-learn.org/stable/datasets/toy_dataset.html\n"
   ]
  },
  {
   "cell_type": "markdown",
   "metadata": {},
   "source": [
    "## 3. Explore your data.\n",
    "\n",
    "Start by importing the data and examining its structure."
   ]
  },
  {
   "cell_type": "code",
   "execution_count": null,
   "metadata": {},
   "outputs": [],
   "source": [
    "# Data! Data! Data!\n",
    "film_adaptations = []\n",
    "\n",
    "print(cwd)\n",
    "\n",
    "with open(cwd+'/Books-to-Movies.txt', encoding='utf8') as f:\n",
    "    for line in f.read().splitlines():\n",
    "        d = (ast.literal_eval(line))\n",
    "        film_adaptations.append(d)\n",
    "    \n",
    "# let's take a look at the information each entry has (the \"keys\") to get a sense of structure\n",
    "for key in film_adaptations[0].keys():\n",
    "    print(key,type(key))\n",
    "    \n",
    "# We'll keep this list handy, since we'll be referencing these keys to select our data"
   ]
  },
  {
   "cell_type": "code",
   "execution_count": null,
   "metadata": {},
   "outputs": [],
   "source": [
    "# Transform to dataframe\n",
    "# Let's shift to pandas for more flexible handling and better features (like sample!). \n",
    "# to learn more about the pandas data science toolsuite: https://pandas.pydata.org/ \n",
    "df = pd.DataFrame(film_adaptations)\n",
    "\n",
    "# print a row, and print the top (head) of a column\n",
    "print('A row:',df.sample())\n",
    "\n",
    "print('/nA column:',df['mActors'].head())\n"
   ]
  },
  {
   "cell_type": "code",
   "execution_count": null,
   "metadata": {},
   "outputs": [],
   "source": [
    "# Formatting the output\n",
    "# And lets examine some random samples and practice accessing values based on key.\n",
    "for i in range(5):\n",
    "    row=df.sample()\n",
    "    \n",
    "    print('{} was written by {} in {}, and had an average rating of {}\\n'.format(\n",
    "                        row['title'].values[0],\n",
    "                        row['author_name'].values[0],\n",
    "                        row['publication_date'].values[0][-4:],\n",
    "                        row['average_rating'].values[0]))"
   ]
  },
  {
   "cell_type": "code",
   "execution_count": null,
   "metadata": {},
   "outputs": [],
   "source": [
    "# For practice, look up the goodreads id of your favorite film-adapted book\n",
    "# https://www.goodreads.com/book/\n",
    "# The goodreads id preceeds the book title in the web address, highlighted below in blue\n",
    "Image(cwd+\"/img/how_to_find_gr_id.png\", width=500, height=300)"
   ]
  },
  {
   "cell_type": "code",
   "execution_count": null,
   "metadata": {},
   "outputs": [],
   "source": [
    "# Access the row of the desired film adaptation\n",
    "\n",
    "grID = '41865'  # <------ edit this variable with the goodreads ID you just looked up\n",
    "\n",
    "row = df.loc[df['goodreads_id'] == grID]\n",
    "\n",
    "# you can print the whole row, or just extract the key value you want\n",
    "print('title of row',row['title']) # <---- edit this line to access a different value, like 'average_rating'\n"
   ]
  },
  {
   "cell_type": "code",
   "execution_count": null,
   "metadata": {},
   "outputs": [],
   "source": [
    "# What do other book ratings look like?\n",
    "df['average_rating'] = df['average_rating'].astype(float)\n",
    "\n",
    "print('good reads ratings:\\n',df['average_rating'].head())\n",
    "\n",
    "# Plot goodreads ratings\n",
    "plt.rcParams[\"figure.figsize\"] = (18,3)\n",
    "df['average_rating'].plot(kind='bar')"
   ]
  },
  {
   "cell_type": "markdown",
   "metadata": {},
   "source": [
    "## 3. Normalize and clean your data.\n",
    "\n",
    "Normalizing, cleanding, transforming... These terms are thrown used loosely but have very concrete meanings in practice. For more: https://www.statisticshowto.com/normalized/\n",
    "\n",
    "If you notice errors or something missing, please please please mention it in the comments so the quality of this dataset can be improved!"
   ]
  },
  {
   "cell_type": "code",
   "execution_count": null,
   "metadata": {},
   "outputs": [],
   "source": [
    "#Plot goodreads ratings (average_rating) against imdb ratings (m_imdb_Rating)\n",
    "#recall all our key values are in string format, so we need to convert to numeric\n",
    "df['m_imdb_Rating'] = pd.to_numeric(df['m_imdb_Rating'],errors='coerce')\n",
    "\n",
    "df.plot(x='average_rating',y='m_imdb_Rating',style='o',figsize=(10,10))"
   ]
  },
  {
   "cell_type": "code",
   "execution_count": null,
   "metadata": {},
   "outputs": [],
   "source": [
    "# Let's explore the outliers\n",
    "print('outliers:',df[df['average_rating']< 2.25])"
   ]
  },
  {
   "cell_type": "code",
   "execution_count": null,
   "metadata": {},
   "outputs": [],
   "source": [
    "# Although these classics made ok movies, there are really too few book reviews for goodreads\n",
    "# scores to have any credibility. Let's establish a review count threshold for quality.\n",
    "\n",
    "df = df[df['ratings_count'].astype(float)>19] # for goodreads\n",
    "\n",
    "\n",
    "# repeat for imdb, then replot\n",
    "df['m_imdb_Votes'] = pd.to_numeric(df['m_imdb_Votes'],errors='coerce')\n",
    "df = df[df['m_imdb_Votes']>19]\n",
    "\n",
    "\n",
    "df.plot(x='average_rating',y='m_imdb_Rating',style='o',figsize=(10,10))\n",
    "\n",
    "# plot a Marker for your favorite film adaptaion on top of the other data\n",
    "# use the grID variable you set up earlier\n",
    "row = df.loc[df['goodreads_id'] == grID]\n",
    "plt.plot(row['average_rating'],row['m_imdb_Rating'], marker='x', markersize=15, color=\"blue\")\n"
   ]
  },
  {
   "cell_type": "code",
   "execution_count": null,
   "metadata": {},
   "outputs": [],
   "source": [
    "# Before we move on to determining what is statistically significant any given column, we need to  \n",
    "# transform each numeric column to be reflective of what is statistically significant\n",
    "\n",
    "# normalize the data\n",
    "from sklearn.preprocessing import scale\n",
    "df['scaled_gr'] = scale(df['average_rating'].astype(float))\n",
    "\n",
    "# Plot goodreads ratings AFTER normalizing\n",
    "plt.rcParams[\"figure.figsize\"] = (18,3)\n",
    "df['scaled_gr'].plot(kind='bar')\n",
    "\n",
    "# https://bruchez.blogspot.com/2017/12/having-fun-with-imdb-dataset-files.html\n",
    "# lots of cool data science tutorials on sci kit learn: https://scikit-learn.org/stable/ "
   ]
  },
  {
   "cell_type": "code",
   "execution_count": null,
   "metadata": {},
   "outputs": [],
   "source": [
    "# Let's compare this to what the data would have looked like BEFORE normalizing:\n",
    "\n",
    "# Plot goodreads ratings WITHOUT normalization\n",
    "plt.rcParams[\"figure.figsize\"] = (18,3)\n",
    "df['average_rating'].plot(kind='bar')\n"
   ]
  },
  {
   "cell_type": "markdown",
   "metadata": {},
   "source": [
    "## 5. Extract Information\n",
    "\n",
    "Let's start by analyzing what makes a good film adaptation, vice a bad one."
   ]
  },
  {
   "cell_type": "code",
   "execution_count": null,
   "metadata": {},
   "outputs": [],
   "source": [
    "# Using the ratings information, let's derive whether it was a good adaptation or bad adaptation\n",
    "# Create two more columns, labeling each row as either a good/bad book, and a good/bad movie\n",
    "df['scaled_imdb'] = scale(df['m_imdb_Rating'].astype(float))\n",
    "\n",
    "df.loc[((df['scaled_imdb']>=0) & (df['scaled_gr']<0)),'Adaptation_Category'] = 1 # good movie, bad book\n",
    "df.loc[((df['scaled_imdb']>=0) & (df['scaled_gr']>=0)),'Adaptation_Category'] = 2 # good movie, good book\n",
    "df.loc[((df['scaled_imdb']<0) & (df['scaled_gr']>=0)),'Adaptation_Category'] = 3 # bad movie, good book\n",
    "df.loc[((df['scaled_imdb']<0) & (df['scaled_gr']<0)),'Adaptation_Category'] = 4 # bad movie, bad book\n",
    "\n",
    "print(df['Adaptation_Category'])"
   ]
  },
  {
   "cell_type": "code",
   "execution_count": null,
   "metadata": {},
   "outputs": [],
   "source": [
    "# Chart out some numeric columns\n",
    "df[['Adaptation_Category','ratings_count','m_imdb_Votes']].groupby(\"Adaptation_Category\").mean()"
   ]
  },
  {
   "cell_type": "code",
   "execution_count": null,
   "metadata": {},
   "outputs": [],
   "source": [
    "from collections import Counter\n",
    "# put the non-numeric data into a numeric format\n",
    "bad_books_good_movies = df[df['Adaptation_Category']==1]\n",
    "good_books_good_movies = df[df['Adaptation_Category']==2]\n",
    "good_books_bad_movies = df[df['Adaptation_Category']==3]\n",
    "bad_books_bad_movies = df[df['Adaptation_Category']==4]\n",
    "\n",
    "# Let's grab all the actors from bad books, but good movies (bbgm)\n",
    "bbgm_Actors = []\n",
    "for actors_in_a_given_movie in bad_books_good_movies['mActors'].values.tolist():    \n",
    "    bbgm_Actors += actors_in_a_given_movie.split(', ')\n",
    "        \n",
    "print(\"Top actors for good film adaptations:\")\n",
    "            \n",
    "print(Counter(bbgm_Actors).most_common(50))\n"
   ]
  },
  {
   "cell_type": "code",
   "execution_count": null,
   "metadata": {},
   "outputs": [],
   "source": [
    "# Let's compare this to all the actors from good movies, but bad books\n",
    "gbbm_Actors = []\n",
    "for actors_in_a_given_movie in good_books_bad_movies['mActors'].values.tolist():    \n",
    "    gbbm_Actors += actors_in_a_given_movie.split(', ')\n",
    "    \n",
    "print(\"Top actors for bad film adaptations (Who ruined the book???):\")\n",
    "\n",
    "print(Counter(gbbm_Actors).most_common(50))\n"
   ]
  },
  {
   "cell_type": "code",
   "execution_count": null,
   "metadata": {},
   "outputs": [],
   "source": [
    "# Any common elements?\n",
    "intersection = set(bbgm_Actors).intersection(gbbm_Actors)\n",
    "\n",
    "print(Counter(intersection).most_common(10))"
   ]
  },
  {
   "cell_type": "markdown",
   "metadata": {},
   "source": [
    "Thanks so much for hacking along, Bishop Ireton! Please see my github project page https://github.com/ravedawg/HackBI to cite this work, leave a comment, follow, or collaborate!"
   ]
  }
 ],
 "metadata": {
  "kernelspec": {
   "display_name": "Python 3",
   "language": "python",
   "name": "python3"
  },
  "language_info": {
   "codemirror_mode": {
    "name": "ipython",
    "version": 3
   },
   "file_extension": ".py",
   "mimetype": "text/x-python",
   "name": "python",
   "nbconvert_exporter": "python",
   "pygments_lexer": "ipython3",
   "version": "3.7.4"
  }
 },
 "nbformat": 4,
 "nbformat_minor": 4
}
